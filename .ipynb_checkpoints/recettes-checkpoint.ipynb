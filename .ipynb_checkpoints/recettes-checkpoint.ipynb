{
 "cells": [
  {
   "cell_type": "code",
   "execution_count": null,
   "metadata": {},
   "outputs": [],
   "source": [
    "#imprime les recettes faisables à partir des ingrédients renseignés dans le réfrigérateur"
   ]
  },
  {
   "cell_type": "code",
   "execution_count": 48,
   "metadata": {
    "ExecuteTime": {
     "end_time": "2022-04-18T14:45:07.423724Z",
     "start_time": "2022-04-18T14:45:07.411828Z"
    }
   },
   "outputs": [],
   "source": [
    "dictionnaire_frigo = {\n",
    "    \"orange\" : 5,\n",
    "    \"citron\" : 3,\n",
    "    \"sel\" : 100,\n",
    "    \"sucre\" : 50,\n",
    "    \"farine\" : 250,\n",
    "    \"lait\" : 500,\n",
    "    \"tomates\" : 6,\n",
    "    \"huile\" : 100,\n",
    "}\n",
    "    \n",
    "recettes = {\n",
    "    \"jus_de_fruit\" : {\n",
    "        \"orange\" : 3,\n",
    "        \"citron\" : 1,\n",
    "        \"pomme\" : 1\n",
    "    },\n",
    "    \"salade\" : {\n",
    "        \"tomates\" : 4,\n",
    "        \"huile\" : 10,\n",
    "        \"sel\" : 3\n",
    "    },\n",
    "    \"crepes\" : {\n",
    "        \"lait\" : 400,\n",
    "        \"farine\" : 250,\n",
    "        \"oeufs\" : 2\n",
    "    }\n",
    "}"
   ]
  },
  {
   "cell_type": "code",
   "execution_count": 49,
   "metadata": {
    "ExecuteTime": {
     "end_time": "2022-04-18T14:45:08.031745Z",
     "start_time": "2022-04-18T14:45:08.024584Z"
    }
   },
   "outputs": [],
   "source": [
    "def in_fridge(item):\n",
    "    if item in dictionnaire_frigo:\n",
    "        return True\n",
    "    else:\n",
    "        return False\n",
    "\n",
    "def check_recette(name):  \n",
    "    for item in recettes[name]:\n",
    "        item_in_fridge = in_fridge(item)\n",
    "        if item_in_fridge == False:\n",
    "            return False\n",
    "    return True"
   ]
  },
  {
   "cell_type": "code",
   "execution_count": 50,
   "metadata": {
    "ExecuteTime": {
     "end_time": "2022-04-18T14:45:08.931702Z",
     "start_time": "2022-04-18T14:45:08.927052Z"
    }
   },
   "outputs": [
    {
     "name": "stdout",
     "output_type": "stream",
     "text": [
      "False\n",
      "True\n",
      "False\n"
     ]
    }
   ],
   "source": [
    "for name in recettes:\n",
    "    print(check_recette(name))"
   ]
  },
  {
   "cell_type": "code",
   "execution_count": 51,
   "metadata": {
    "ExecuteTime": {
     "end_time": "2022-04-18T14:45:09.447712Z",
     "start_time": "2022-04-18T14:45:09.422589Z"
    }
   },
   "outputs": [
    {
     "data": {
      "text/plain": [
       "True"
      ]
     },
     "execution_count": 51,
     "metadata": {},
     "output_type": "execute_result"
    }
   ],
   "source": [
    "name = \"salade\"\n",
    "check_recette(name)"
   ]
  },
  {
   "cell_type": "code",
   "execution_count": 52,
   "metadata": {
    "ExecuteTime": {
     "end_time": "2022-04-18T14:45:10.518647Z",
     "start_time": "2022-04-18T14:45:10.513363Z"
    }
   },
   "outputs": [
    {
     "name": "stdout",
     "output_type": "stream",
     "text": [
      "salade\n"
     ]
    }
   ],
   "source": [
    "if check_recette(name) == True: print(name)\n"
   ]
  }
 ],
 "metadata": {
  "kernelspec": {
   "display_name": "Python 3",
   "language": "python",
   "name": "python3"
  },
  "language_info": {
   "codemirror_mode": {
    "name": "ipython",
    "version": 3
   },
   "file_extension": ".py",
   "mimetype": "text/x-python",
   "name": "python",
   "nbconvert_exporter": "python",
   "pygments_lexer": "ipython3",
   "version": "3.8.5"
  },
  "toc": {
   "base_numbering": 1,
   "nav_menu": {},
   "number_sections": true,
   "sideBar": true,
   "skip_h1_title": false,
   "title_cell": "Table of Contents",
   "title_sidebar": "Contents",
   "toc_cell": false,
   "toc_position": {},
   "toc_section_display": true,
   "toc_window_display": false
  }
 },
 "nbformat": 4,
 "nbformat_minor": 5
}
