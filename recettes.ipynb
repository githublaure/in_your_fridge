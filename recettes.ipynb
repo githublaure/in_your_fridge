{
 "cells": [
  {
   "cell_type": "code",
   "execution_count": null,
   "metadata": {},
   "outputs": [],
   "source": [
    "#imprime les recettes faisables à partir des ingrédients renseignés dans le réfrigérateur"
   ]
  },
  {
   "cell_type": "code",
   "execution_count": 1,
   "metadata": {
    "ExecuteTime": {
     "end_time": "2022-04-18T14:45:07.423724Z",
     "start_time": "2022-04-18T14:45:07.411828Z"
    }
   },
   "outputs": [],
   "source": [
    "dictionnaire_frigo = {\n",
    "    \"orange\" : 5,\n",
    "    \"citron\" : 3,\n",
    "    \"sel\" : 100,\n",
    "    \"sucre\" : 50,\n",
    "    \"farine\" : 250,\n",
    "    \"lait\" : 500,\n",
    "    \"tomates\" : 6,\n",
    "    \"huile\" : 100,\n",
    "}\n",
    "    \n",
    "recettes = {\n",
    "    \"jus_de_fruit\" : {\n",
    "        \"orange\" : 3,\n",
    "        \"citron\" : 1,\n",
    "        \"pomme\" : 1\n",
    "    },\n",
    "    \"salade\" : {\n",
    "        \"tomates\" : 4,\n",
    "        \"huile\" : 10,\n",
    "        \"sel\" : 3\n",
    "    },\n",
    "    \"crepes\" : {\n",
    "        \"lait\" : 400,\n",
    "        \"farine\" : 250,\n",
    "        \"oeufs\" : 2\n",
    "    }\n",
    "}"
   ]
  },
  {
   "cell_type": "code",
   "execution_count": 4,
   "metadata": {
    "ExecuteTime": {
     "end_time": "2022-04-18T14:45:08.031745Z",
     "start_time": "2022-04-18T14:45:08.024584Z"
    }
   },
   "outputs": [],
   "source": [
    "def in_fridge(item):\n",
    "    if item in dictionnaire_frigo:\n",
    "        return True\n",
    "    else:\n",
    "        return False\n",
    "\n",
    "def check_recette(name):  \n",
    "    for item in recettes[name]:\n",
    "        item_in_fridge = in_fridge(item)\n",
    "        if item_in_fridge == False:\n",
    "            return False\n",
    "    return True"
   ]
  },
  {
   "cell_type": "code",
   "execution_count": 6,
   "id": "f096cd86",
   "metadata": {},
   "outputs": [
    {
     "data": {
      "text/plain": [
       "True"
      ]
     },
     "execution_count": 6,
     "metadata": {},
     "output_type": "execute_result"
    }
   ],
   "source": [
    "name = \"salade\"\n",
    "check_recette(name)"
   ]
  },
  {
   "cell_type": "code",
   "execution_count": 7,
   "metadata": {
    "ExecuteTime": {
     "end_time": "2022-04-18T16:13:05.968671Z",
     "start_time": "2022-04-18T16:13:05.953774Z"
    }
   },
   "outputs": [
    {
     "name": "stdout",
     "output_type": "stream",
     "text": [
      "salade\n"
     ]
    }
   ],
   "source": [
    "if check_recette(name) == True: print(name)\n"
   ]
  },
  {
   "cell_type": "code",
   "execution_count": 8,
   "id": "1c59f055",
   "metadata": {},
   "outputs": [],
   "source": [
    "   fridge = {\n",
    "    \"orange\" : 5,\n",
    "    \"citron\" : 3,\n",
    "    \"sel\" : 100,\n",
    "    \"sucre\" : 50,\n",
    "    \"farine\" : 250,\n",
    "    \"lait\" : 200,\n",
    "    \"oeufs\" : 1,\n",
    "    \"tomates\" : 6,\n",
    "    \"huile\" : 100,\n",
    "}\n",
    "    \n",
    "recipes = {\n",
    "    \"jus_de_fruit\" : {\n",
    "        \"orange\" : 3,\n",
    "        \"citron\" : 1,\n",
    "        \"pomme\" : 1\n",
    "    },\n",
    "    \"salade\" : {\n",
    "        \"tomates\" : 3,\n",
    "        \"huile\" : 10,\n",
    "        \"sel\" : 3\n",
    "    },\n",
    "    \"crepes\" : {\n",
    "        \"lait\" : 400,\n",
    "        \"farine\" : 250,\n",
    "        \"oeufs\" : 2\n",
    "    }\n",
    "}\n"
   ]
  },
  {
   "cell_type": "code",
   "execution_count": 9,
   "id": "7609b5f9",
   "metadata": {},
   "outputs": [
    {
     "name": "stdout",
     "output_type": "stream",
     "text": [
      "Tous les ingrédients ne sont pas disponibles pour faire : jus_de_fruit\n",
      "Super !! Tu peux cuisiner cette recette : salade\n",
      "Il n'y a pas suffisamment d'ingrédients disponibles pour faire : crepes\n"
     ]
    }
   ],
   "source": [
    "for recipe, recipe_contents in recipes.items():\n",
    "    if all(elem in list(fridge.keys()) for elem in list(recipes[recipe].keys())):\n",
    "        if all(recipe_contents[elem] <= fridge[elem] for elem in recipe_contents):\n",
    "            print(f'Super !! Tu peux cuisiner cette recette : {recipe}')\n",
    "        else : \n",
    "            print(f'Il n\\'y a pas suffisamment d\\'ingrédients disponibles pour faire : {recipe}')\n",
    "    else : \n",
    "            print(f'Tous les ingrédients ne sont pas disponibles pour faire : {recipe}')"
   ]
  }
 ],
 "metadata": {
  "kernelspec": {
   "display_name": "Python 3",
   "language": "python",
   "name": "python3"
  },
  "language_info": {
   "codemirror_mode": {
    "name": "ipython",
    "version": 3
   },
   "file_extension": ".py",
   "mimetype": "text/x-python",
   "name": "python",
   "nbconvert_exporter": "python",
   "pygments_lexer": "ipython3",
   "version": "3.8.5"
  },
  "toc": {
   "base_numbering": 1,
   "nav_menu": {},
   "number_sections": true,
   "sideBar": true,
   "skip_h1_title": false,
   "title_cell": "Table of Contents",
   "title_sidebar": "Contents",
   "toc_cell": false,
   "toc_position": {},
   "toc_section_display": true,
   "toc_window_display": false
  }
 },
 "nbformat": 4,
 "nbformat_minor": 5
}
